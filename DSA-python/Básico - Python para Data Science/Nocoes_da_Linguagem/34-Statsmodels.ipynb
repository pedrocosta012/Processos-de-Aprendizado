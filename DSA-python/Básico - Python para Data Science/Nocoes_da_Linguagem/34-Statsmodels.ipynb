{
 "cells": [
  {
   "cell_type": "markdown",
   "id": "b061b4ec",
   "metadata": {},
   "source": [
    "# <font color='blue'>Data Science Academy</font>\n",
    "\n",
    "## <font color='blue'>Fundamentos de Linguagem Python Para Análise de Dados e Data Science</font>\n",
    "\n",
    "## <font color='blue'>Análise Estatística com Statsmodels</font>\n",
    "\n",
    "Problema de Negócio:\n",
    "\n",
    "Existe alguma relação entre a área de imóveis (em metros quadrados) e o valor do aluguel em uma determinada cidade? Caso exista relação, como podemos mensurá-la?"
   ]
  },
  {
   "cell_type": "code",
   "execution_count": null,
   "id": "b0d022f0",
   "metadata": {},
   "outputs": [],
   "source": [
    "# Versão da Linguagem Python\n",
    "from platform import python_version\n",
    "print('Versão da Linguagem Python Usada Neste Jupyter Notebook:', python_version())"
   ]
  },
  {
   "cell_type": "code",
   "execution_count": null,
   "id": "b4db14f6",
   "metadata": {},
   "outputs": [],
   "source": [
    "# Imports\n",
    "import pandas as pd\n",
    "import matplotlib.pyplot as plt\n",
    "import seaborn as sns\n",
    "import statsmodels.api as sm"
   ]
  },
  {
   "cell_type": "markdown",
   "id": "cba483b3",
   "metadata": {},
   "source": [
    "## Carregando os Dados"
   ]
  },
  {
   "cell_type": "code",
   "execution_count": null,
   "id": "9e9a2f84",
   "metadata": {},
   "outputs": [],
   "source": [
    "# Carrega o dataset\n",
    "df_dsa = pd.read_csv('arquivos/dataset3.csv')"
   ]
  },
  {
   "cell_type": "code",
   "execution_count": null,
   "id": "dac9d634",
   "metadata": {},
   "outputs": [],
   "source": [
    "df_dsa.shape"
   ]
  },
  {
   "cell_type": "code",
   "execution_count": null,
   "id": "c9e590a4",
   "metadata": {},
   "outputs": [],
   "source": [
    "df_dsa.columns"
   ]
  },
  {
   "cell_type": "code",
   "execution_count": null,
   "id": "473c2427",
   "metadata": {},
   "outputs": [],
   "source": [
    "df_dsa.head()"
   ]
  },
  {
   "cell_type": "code",
   "execution_count": null,
   "id": "0576d19e",
   "metadata": {},
   "outputs": [],
   "source": [
    "df_dsa.info()"
   ]
  },
  {
   "cell_type": "markdown",
   "id": "ba63b3fa",
   "metadata": {},
   "source": [
    "## Análise Exploratória - Resumo Estatístico"
   ]
  },
  {
   "cell_type": "code",
   "execution_count": null,
   "id": "b5493bf5",
   "metadata": {},
   "outputs": [],
   "source": [
    "# Verifica se há valores ausentes\n",
    "df_dsa.isnull().sum()"
   ]
  },
  {
   "cell_type": "code",
   "execution_count": null,
   "id": "6ccabc91",
   "metadata": {},
   "outputs": [],
   "source": [
    "# Resumo estatístico do dataset - ATENÇÃO\n",
    "df_dsa.describe()"
   ]
  },
  {
   "cell_type": "code",
   "execution_count": null,
   "id": "2f141394",
   "metadata": {},
   "outputs": [],
   "source": [
    "# Resumo estatístico da variável alvo\n",
    "df_dsa[\"valor_aluguel\"].describe()"
   ]
  },
  {
   "cell_type": "code",
   "execution_count": null,
   "id": "05d0c346",
   "metadata": {},
   "outputs": [],
   "source": [
    "# Histograma da variável alvo\n",
    "sns.histplot(data = df_dsa, x = \"valor_aluguel\", kde = True)"
   ]
  },
  {
   "cell_type": "code",
   "execution_count": null,
   "id": "1539661b",
   "metadata": {},
   "outputs": [],
   "source": [
    "# Correlação entre as variáveis\n",
    "df_dsa.corr()"
   ]
  },
  {
   "cell_type": "markdown",
   "id": "585cf239",
   "metadata": {},
   "source": [
    "O coeficiente de correlação é uma medida estatística que indica a força e a direção da relação linear entre duas variáveis numéricas. Ele varia entre -1 e 1, onde:\n",
    "\n",
    "Um coeficiente de correlação igual a 1 indica uma correlação linear perfeita positiva, ou seja, quando uma variável aumenta, a outra variável também aumenta na mesma proporção.\n",
    "\n",
    "Um coeficiente de correlação igual a -1 indica uma correlação linear perfeita negativa, ou seja, quando uma variável aumenta, a outra variável diminui na mesma proporção.\n",
    "\n",
    "Um coeficiente de correlação igual a 0 sugere que não há correlação linear entre as duas variáveis.\n",
    "\n",
    "O coeficiente de correlação mais comum é o de Pearson, que mede a correlação linear entre duas variáveis. Existem outras medidas de correlação, como o coeficiente de correlação de Spearman, que avalia a relação monotônica entre duas variáveis, e o coeficiente de correlação de Kendall, que considera a concordância entre os rankings das variáveis."
   ]
  },
  {
   "cell_type": "code",
   "execution_count": null,
   "id": "da110396",
   "metadata": {},
   "outputs": [],
   "source": [
    "# Vamos analisar a relação entre a variável de entrada area_m2 e a variável alvo valor_aluguel\n",
    "sns.scatterplot(data = df_dsa, x = \"area_m2\", y = \"valor_aluguel\")"
   ]
  },
  {
   "cell_type": "markdown",
   "id": "987d7638",
   "metadata": {},
   "source": [
    "## Regressão Linear Simples\n",
    "\n",
    "A Regressão Linear é uma técnica estatística utilizada para modelar a relação entre uma variável dependente (também chamada de variável resposta ou variável alvo) e uma ou mais variáveis independentes (também chamadas de variáveis explicativas ou preditoras). \n",
    "\n",
    "A Regressão Linear tem como objetivo estimar os coeficientes da equação que melhor descreve essa relação, minimizando a soma dos erros quadráticos entre os valores observados e os valores previstos pelo modelo.\n",
    "\n",
    "Existem dois tipos principais de regressão linear:\n",
    "\n",
    "**Regressão Linear Simples**: Neste caso, há apenas uma variável independente envolvida. A equação da Regressão Linear Simples é expressa como:\n",
    "\n",
    "Y = a + bX + ε\n",
    "\n",
    "Onde Y é a variável dependente, X é a variável independente, a é o coeficiente linear (intercepto), b é o coeficiente angular (inclinação) e ε é o erro aleatório.\n",
    "\n",
    "**Regressão Linear Múltipla**: Neste caso, há duas ou mais variáveis independentes envolvidas. A equação é expressa como:\n",
    "\n",
    "Y = a + b1X1 + b2X2 + ... + bnXn + ε\n",
    "\n",
    "Onde Y é a variável dependente, X1, X2, ..., Xn são as variáveis independentes, a é o coeficiente linear (intercepto), b1, b2, ..., bn são os coeficientes angulares (inclinações) e ε é o erro aleatório.\n",
    "\n",
    "A Regressão Linear é amplamente utilizada em diversas áreas, como economia, ciências sociais, biologia e engenharia, para prever resultados, avaliar relações causais e identificar fatores que contribuem para um fenômeno específico. \n",
    "\n",
    "Além disso, é uma técnica fundamental para a análise de dados e aprendizado de máquina, onde é usada para desenvolver modelos preditivos."
   ]
  },
  {
   "cell_type": "markdown",
   "id": "7a200b73",
   "metadata": {},
   "source": [
    "## Construção do Modelo OLS (Ordinary Least Squares) com Statsmodels em Python"
   ]
  },
  {
   "cell_type": "code",
   "execution_count": null,
   "id": "b9c839fb",
   "metadata": {},
   "outputs": [],
   "source": [
    "df_dsa.head()"
   ]
  },
  {
   "cell_type": "code",
   "execution_count": null,
   "id": "21f59e83",
   "metadata": {},
   "outputs": [],
   "source": [
    "# Definimos a variável dependente\n",
    "y = df_dsa[\"valor_aluguel\"]"
   ]
  },
  {
   "cell_type": "code",
   "execution_count": null,
   "id": "1b9ffbab",
   "metadata": {},
   "outputs": [],
   "source": [
    "# Definimos a variável independente\n",
    "X = df_dsa[\"area_m2\"]"
   ]
  },
  {
   "cell_type": "code",
   "execution_count": null,
   "id": "c8e18502",
   "metadata": {},
   "outputs": [],
   "source": [
    "# O Statsmodels requer a adição de uma constante à variável independente\n",
    "X = sm.add_constant(X)"
   ]
  },
  {
   "cell_type": "code",
   "execution_count": null,
   "id": "3b38c21b",
   "metadata": {},
   "outputs": [],
   "source": [
    "# Criamos o modelo\n",
    "modelo = sm.OLS(y, X)"
   ]
  },
  {
   "cell_type": "markdown",
   "id": "59f427d3",
   "metadata": {},
   "source": [
    "O método sm.OLS(y, X) é uma função do pacote Statsmodels, biblioteca Python utilizada para análise estatística. A função OLS (Ordinary Least Squares) é usada para ajustar um modelo de regressão linear, minimizando a soma dos erros quadráticos entre os valores observados e os valores previstos pelo modelo.\n",
    "\n",
    "A função sm.OLS(y, X) recebe dois argumentos principais:\n",
    "\n",
    "y: Um array ou pandas Series representando a variável dependente (variável resposta ou alvo). É a variável que você deseja prever ou explicar com base nas variáveis independentes.\n",
    "\n",
    "X: Um array ou pandas DataFrame representando as variáveis independentes (variáveis explicativas ou preditoras). São as variáveis que você deseja usar para explicar ou prever a variável dependente."
   ]
  },
  {
   "cell_type": "markdown",
   "id": "a3392ba8",
   "metadata": {},
   "source": [
    "https://www.statsmodels.org/dev/generated/statsmodels.regression.linear_model.OLS.html"
   ]
  },
  {
   "cell_type": "code",
   "execution_count": null,
   "id": "d745bdc0",
   "metadata": {},
   "outputs": [],
   "source": [
    "# Treinamento do modelo\n",
    "resultado = modelo.fit()"
   ]
  },
  {
   "cell_type": "code",
   "execution_count": null,
   "id": "124daad9",
   "metadata": {},
   "outputs": [],
   "source": [
    "print(resultado.summary())"
   ]
  },
  {
   "cell_type": "markdown",
   "id": "2ad7813d",
   "metadata": {},
   "source": [
    "## Interpretando o Resultado do Modelo Estatístico com Statsmodels\n",
    "\n",
    "A tabela acima traz um resumo do modelo com diversas estatísticas. Aqui faremos a análise de uma delas, o R².\n",
    "\n",
    "O coeficiente de determinação, também conhecido como R², é uma medida estatística que avalia o quão bem o modelo de regressão se ajusta aos dados observados. Ele varia de 0 a 1 e representa a proporção da variação total da variável dependente que é explicada pelo modelo de regressão.\n",
    "\n",
    "A interpretação do R² é a seguinte:\n",
    "\n",
    "R² = 0: Neste caso, o modelo de regressão não explica nenhuma variação na variável dependente. Isso significa que o modelo não é útil para prever ou explicar a variável de interesse.\n",
    "\n",
    "R² = 1: Neste caso, o modelo de regressão explica toda a variação na variável dependente. Isso indica que o modelo se ajusta perfeitamente aos dados e é extremamente útil para prever ou explicar a variável de interesse.\n",
    "\n",
    "0 < R² < 1: Neste caso, o modelo de regressão explica uma parte da variação na variável dependente. Quanto maior o valor de R², melhor o modelo se ajusta aos dados e melhor é a sua capacidade de prever ou explicar a variável de interesse.\n",
    "\n",
    "É importante notar que um R² alto não garante que o modelo seja adequado, nem que haja uma relação causal entre as variáveis. Um R² alto pode ser resultado de variáveis irrelevantes, multicolinearidade ou até mesmo de um ajuste excessivo (overfitting). Portanto, é essencial avaliar outras estatísticas e diagnosticar o modelo antes de tirar conclusões definitivas.\n",
    "\n",
    "Para estudar Análise Estatística em detalhes recomendamos a <a href=\"https://www.datascienceacademy.com.br/bundle/formacao-analise-estatistica\">Formação Análise Estatística</a>. O tema também é abordado em diversos cursos da <a href=\"https://www.datascienceacademy.com.br/bundle/formacao-cientista-de-dados\">Formação Cientista de Dados</a>."
   ]
  },
  {
   "cell_type": "code",
   "execution_count": null,
   "id": "4bf283ae",
   "metadata": {},
   "outputs": [],
   "source": [
    "# Plot\n",
    "plt.figure(figsize = (12, 8))\n",
    "plt.xlabel(\"area_m2\", size = 16)\n",
    "plt.ylabel(\"valor_aluguel\", size = 16)\n",
    "plt.plot(X[\"area_m2\"], y, \"o\", label = \"Dados Reais\")\n",
    "plt.plot(X[\"area_m2\"], resultado.fittedvalues, \"r-\", label = \"Linha de Regressão (Previsões do Modelo)\")\n",
    "plt.legend(loc = \"best\")\n",
    "plt.show()"
   ]
  },
  {
   "cell_type": "markdown",
   "id": "f9a606f5",
   "metadata": {},
   "source": [
    "## Conclusão\n",
    "\n",
    "Claramente existe uma forte relação entre a área (em m2) dos imóveis e o valor do aluguel. Entretanto, apenas a área dos imóveis não é suficiente para explicar a variação no valor do aluguel, pois nosso modelo obteve um coeficiente de determinação (R²) de apenas 0.34.\n",
    "\n",
    "O ideal seria usar mais variáveis de entrada para construir o modelo a fim de compreender se outros fatores influenciam no valor do aluguel.\n",
    "\n",
    "É sempre importante deixar claro que correlação não implica causalidade e que não podemos afirmar que o valor do aluguel muda apenas devido à área dos imóveis. Para estudar causalidade devemos aplicar Análise Causal.\n",
    "\n",
    "Em um Projeto de Regressão devemos validar as suposições (que são várias) antes de usar o modelo para tirar conclusões. Isso é ensinado na prática nos cursos da <a href=\"https://www.datascienceacademy.com.br/todoscursosdsa\">Data Science Academy</a>."
   ]
  },
  {
   "cell_type": "markdown",
   "id": "9b22cb7c",
   "metadata": {},
   "source": [
    "# Fim"
   ]
  }
 ],
 "metadata": {
  "kernelspec": {
   "display_name": "Python 3 (ipykernel)",
   "language": "python",
   "name": "python3"
  },
  "language_info": {
   "codemirror_mode": {
    "name": "ipython",
    "version": 3
   },
   "file_extension": ".py",
   "mimetype": "text/x-python",
   "name": "python",
   "nbconvert_exporter": "python",
   "pygments_lexer": "ipython3",
   "version": "3.10.9"
  }
 },
 "nbformat": 4,
 "nbformat_minor": 5
}
