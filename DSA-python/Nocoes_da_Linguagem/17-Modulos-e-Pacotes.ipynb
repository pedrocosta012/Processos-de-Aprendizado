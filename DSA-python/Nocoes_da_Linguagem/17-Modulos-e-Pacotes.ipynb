{
  "cells": [
    {
      "cell_type": "markdown",
      "metadata": {},
      "source": [
        "# <font color='blue'>Data Science Academy</font>\n",
        "\n",
        "## <font color='blue'>Fundamentos de Linguagem Python Para Análise de Dados e Data Science</font>\n",
        "\n",
        "## <font color='blue'>Capítulo 6 - Pacotes e Módulos</font>"
      ]
    },
    {
      "cell_type": "code",
      "metadata": {},
      "outputs": [],
      "source": [
        "# Versão da Linguagem Python\n",
        "from platform import python_version\n",
        "print('Versão da Linguagem Python Usada Neste Jupyter Notebook:', python_version())"
      ]
    },
    {
      "cell_type": "markdown",
      "metadata": {},
      "source": [
        "## Pacotes e Módulos\n",
        "\n",
        "Em Python, um módulo é um arquivo (script) que contém código Python e pode ser importado em outros arquivos Python. Ele é usado para compartilhar funções, classes e variáveis entre arquivos.\n",
        "\n",
        "Já um pacote é uma coleção de módulos organizados em uma estrutura de diretórios. Ele permite a divisão de um aplicativo em múltiplos módulos, o que facilita a manutenção e o desenvolvimento.\n",
        "\n",
        "Visite o PyPi, repositório de pacotes da Linguagem Python: https://pypi.org/"
      ]
    },
    {
      "cell_type": "code",
      "metadata": {},
      "outputs": [],
      "source": [
        "# Importando um pacote Python\n",
        "import numpy"
      ]
    },
    {
      "cell_type": "code",
      "metadata": {},
      "outputs": [],
    "source": [
      "# Verificando todos os métodos e atributos disponíveis no pacote\n",
      "dir(numpy)"
    ]
  },
  {
    "cell_type": "code",
    "metadata": {},
    "outputs": [],
  "source": [
    "# Usando um dos métodos do pacote Numpy\n",
    "numpy.sqrt(25)"
  ]
},
{
  "cell_type": "code",
  "metadata": {},
  "outputs": [],
  "source": [
    "# Importando apenas um dos métodos do pacote Numpy\n",
    "from numpy import sqrt"
  ]
},
{
  "cell_type": "code",
  "metadata": {},
  "outputs": [],
"source": [
  "# Usando o método\n",
  "sqrt(9)"
]
},
{
"cell_type": "code",
"metadata": {},
"outputs": [],
"source": [
"# Imprimindo todos os métodos do pacote numpy\n",
"print(dir(numpy))"
]
},
{
"cell_type": "code",
"metadata": {},
"outputs": [],
"source": [
"# Help do método sqrt do pacote Numpy\n",
"help(sqrt)"
]
},
{
"cell_type": "code",
"metadata": {},
"outputs": [],
"source": [
"import random"
]
},
{
"cell_type": "code",
"metadata": {},
"outputs": [],
"source": [
"random.choice(['Abacate', 'Banana', 'Laranja'])"
]
},
{
"cell_type": "code",
"metadata": {},
"outputs": [],
"source": [
"random.sample(range(100), 10)"
]
},
{
"cell_type": "code",
"metadata": {},
"outputs": [],
"source": [
"import statistics"
]
},
{
"cell_type": "code",
"metadata": {},
"outputs": [],
"source": [
"dados = [2.75, 1.75, 1.25, 0.25, 0.5, 1.25, 3.5]"
]
},
{
"cell_type": "code",
"metadata": {},
"outputs": [],
"source": [
"statistics.mean(dados)"
]
},
{
"cell_type": "code",
"metadata": {},
"outputs": [],
"source": [
"statistics.median(dados)"
]
},
{
"cell_type": "code",
"metadata": {},
"outputs": [],
"source": [
"import os"
]
},
{
"cell_type": "code",
"metadata": {},
"outputs": [],
"source": [
"os.getcwd()"
]
},
{
"cell_type": "code",
"metadata": {},
"outputs": [],
"source": [
"print(dir(os))"
]
},
{
"cell_type": "markdown",
"metadata": {},
"source": [
"> Podemos trabalhar com módulos dos pacotes (quando disponíveis)."
]
},
{
"cell_type": "code",
"metadata": {},
"outputs": [],
"source": [
"# Importando o módulo request do pacote urllib, usado para trazer url's \n",
"# para dentro do nosso ambiente Python\n",
"import urllib.request"
]
},
{
"cell_type": "markdown",
"metadata": {},
"source": [
"http://python.org"
]
},
{
"cell_type": "code",
"metadata": {},
"outputs": [],
"source": [
"# Variável resposta armazena o objeto de conexão à url passada como \n",
"# parâmetro\n",
"resposta = urllib.request.urlopen('http://python.org')"
]
},
{
"cell_type": "code",
"metadata": {},
"outputs": [],
"source": [
"# Objeto resposta\n",
"print(resposta)"
]
},
{
"cell_type": "code",
"metadata": {},
"outputs": [],
"source": [
"# Chamando o método read() do objeto resposta e armazenando o código \n",
"# html na variável html\n",
"html = resposta.read()"
]
},
{
"cell_type": "code",
"metadata": {},
"outputs": [],
"source": [
"# Imprimindo html\n",
"print(html)"
]
},
{
"cell_type": "markdown",
"metadata": {},
"source": [
"# Fim"
]
},
{
"cell_type": "markdown",
"metadata": {
"collapsed": true
},
"source": [
"### Obrigado\n",
"\n",
"### Visite o Blog da Data Science Academy - <a href=\"http://blog.dsacademy.com.br\">Blog DSA</a>"
]
}
],
"metadata": {
"kernelspec": {
"display_name": "Python 3 (ipykernel)",
"language": "python",
"name": "python3"
},
"language_info": {
"codemirror_mode": {
"name": "ipython",
"version": 3
},
"file_extension": ".py",
"mimetype": "text/x-python",
"name": "python",
"nbconvert_exporter": "python",
"pygments_lexer": "ipython3",
"version": "3.9.13"
}
},
"nbformat": 4,
"nbformat_minor": 1
}
