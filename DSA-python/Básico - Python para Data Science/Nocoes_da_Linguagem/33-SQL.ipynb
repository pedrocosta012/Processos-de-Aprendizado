{
 "cells": [
  {
   "cell_type": "markdown",
   "metadata": {},
   "source": [
    "# <font color='blue'>Data Science Academy</font>\n",
    "\n",
    "## <font color='blue'>Fundamentos de Linguagem Python Para Análise de Dados e Data Science</font>\n",
    "\n",
    "## <font color='blue'>Análise de Dados com Python e Linguagem SQL</font>"
   ]
  },
  {
   "cell_type": "markdown",
   "metadata": {},
   "source": [
    "**Por Que a Linguagem SQL é Fundamental Para Profissionais de Dados?**\n",
    "\n",
    "A Linguagem SQL (Structured Query Language) é fundamental para profissionais de dados por várias razões:\n",
    "\n",
    "- **Padrão Universal**: SQL é uma linguagem padrão e amplamente aceita para gerenciamento e consulta de bancos de dados relacionais. Independentemente do sistema gerenciador de banco de dados (SGBD) utilizado, SQL é a linguagem comum para realizar consultas e manipulações de dados.\n",
    "\n",
    "\n",
    "- **Flexibilidade**: SQL permite criar consultas complexas e personalizadas, combinando dados de várias tabelas, filtrando informações e realizando operações de agregação e ordenação. Isso permite que os profissionais de dados extraiam informações valiosas a partir dos dados armazenados.\n",
    "\n",
    "\n",
    "- **Manipulação de Dados**: Além das consultas, SQL permite a inserção, atualização e exclusão de dados, bem como a definição de esquemas e gerenciamento de objetos de banco de dados, como tabelas, índices e visões.\n",
    "\n",
    "\n",
    "- **Controle de Acesso e Segurança**: SQL também oferece recursos para gerenciar o acesso e a segurança dos dados, permitindo aos profissionais de dados controlar quem pode acessar, modificar ou excluir informações no banco de dados.\n",
    "\n",
    "\n",
    "- **Alta Demanda no Mercado**: Profissionais de dados com habilidades em SQL estão em alta demanda, já que a linguagem é amplamente usada em várias áreas e setores. O conhecimento em SQL é uma habilidade essencial para cargos como <a href=\"https://www.datascienceacademy.com.br/bundle/formacao-analista-de-dados\">Analista de Dados</a>, <a href=\"https://www.datascienceacademy.com.br/bundle/formacao-cientista-de-dados\">Cientista de Dados</a>, <a href=\"https://www.datascienceacademy.com.br/bundle/formacao-engenheiro-de-dados\">Engenheiro de Dados</a> e Administrador de Banco de Dados.\n",
    "\n",
    "\n",
    "- **Integração com Outras Ferramentas e Tecnologias**: SQL se integra facilmente com outras ferramentas e linguagens de programação, como Python, R, Java, entre outras. Isso permite que os profissionais de dados aproveitem o poder da Linguagem SQL em conjunto com outras tecnologias para analisar, visualizar e processar dados.\n",
    "\n",
    "Dominar a linguagem SQL proporciona aos profissionais de dados uma base sólida para trabalhar com bancos de dados relacionais e extrair insights valiosos a partir deles. Aprender SQL é um passo essencial para qualquer pessoa que deseja ingressar ou progredir no campo da Análise e Ciência de dados. A Linguagem SQL é fundamental para profissionais de dados. \n",
    "\n",
    "**Onde Encontrar Material de Estudo?**\n",
    "\n",
    "Além deste capítulo que estudaremos agora, veja onde encontrar material sobre SQL aqui na DSA:\n",
    "\n",
    "- A Linguagem SQL (nível de introdução) é estudada em um capítulo inteiro no curso gratuito de <a href=\"https://www.datascienceacademy.com.br/course/microsoft-power-bi-para-business-intelligence-e-data-science\">Microsoft Power BI Para Business Intelligence e Data Science</a>.\n",
    "\n",
    "\n",
    "- A Linguagem SQL é estudada em diversos Labs do curso <a href=\"https://www.datascienceacademy.com.br/course/power-bi-avancado-para-analise-de-dados-com-dax\">Power BI Avançado Para Análise de Dados com DAX</a>.\n",
    "\n",
    "\n",
    "- A Linguagem SQL é estudada em detalhes no curso SQL Para Data Science, o primeiro da <a href=\"https://www.datascienceacademy.com.br/bundle/formacao-analista-de-dados\">Formação Analista de Dados</a>.\n",
    "\n",
    "\n",
    "- A Linguagem SQL é estudada em 4 dos 6 cursos da <a href=\"https://www.datascienceacademy.com.br/bundle/formacao-cientista-de-dados\">Formação Cientista de Dados</a> e usada em diversos Labs, Estudos de Caso, Mini-Projetos e Projetos.\n",
    "\n",
    "\n",
    "- A Linguagem SQL é estudada em um Lab completo no primeiro curso da <a href=\"https://www.datascienceacademy.com.br/bundle/formacao-engenheiro-de-dados\">Formação Engenheiro de Dados</a> e usada nos projetos de diversos cursos da Formação.\n",
    "\n",
    "\n",
    "- A Linguagem SQL é estudada em um capítulo inteiro (nível avançado) no segundo curso da <a href=\"https://www.datascienceacademy.com.br/bundle/formacao-arquiteto-de-dados\">Formação Arquiteto de Dados</a> e usada nos projetos de diversos cursos da Formação.\n",
    "\n",
    "\n",
    "- No curso de Excel Avançado, (curso de bônus gratuito e exclusivo para os alunos das Formações DSA) há um Lab demonstrando passo a passo como usar SQL dentro do Excel."
   ]
  },
  {
   "cell_type": "code",
   "execution_count": null,
   "metadata": {},
   "outputs": [],
   "source": [
    "# Versão da Linguagem Python\n",
    "from platform import python_version\n",
    "print('Versão da Linguagem Python Usada Neste Jupyter Notebook:', python_version())"
   ]
  },
  {
   "cell_type": "markdown",
   "metadata": {},
   "source": [
    "Para este capítulo usaremos o SQLite: https://sqlite.org/index.html"
   ]
  },
  {
   "cell_type": "code",
   "execution_count": null,
   "metadata": {},
   "outputs": [],
   "source": [
    "import sqlite3"
   ]
  },
  {
   "cell_type": "code",
   "execution_count": null,
   "metadata": {},
   "outputs": [],
   "source": [
    "sqlite3.sqlite_version"
   ]
  },
  {
   "cell_type": "code",
   "execution_count": null,
   "metadata": {},
   "outputs": [],
   "source": [
    "import pandas as pd"
   ]
  },
  {
   "cell_type": "code",
   "execution_count": null,
   "metadata": {},
   "outputs": [],
   "source": [
    "pd.__version__"
   ]
  },
  {
   "cell_type": "markdown",
   "metadata": {},
   "source": [
    "## Conectando no Banco de Dados com Linguagem Python\n",
    "\n",
    "Leia o manual em pdf no Capítulo 12 do curso com a descrição completa do que é a Linguagem SQL!"
   ]
  },
  {
   "cell_type": "code",
   "execution_count": null,
   "metadata": {},
   "outputs": [],
   "source": [
    "# Conecta no banco de dados\n",
    "con = sqlite3.connect('arquivos/Banco de dados de teste - SQLite.db')"
   ]
  },
  {
   "cell_type": "code",
   "execution_count": null,
   "metadata": {},
   "outputs": [],
   "source": [
    "# Abre um cursor para percorrer os dados no banco de dados\n",
    "cursor = con.cursor()"
   ]
  },
  {
   "cell_type": "code",
   "execution_count": null,
   "metadata": {},
   "outputs": [],
   "source": [
    "# Query SQL para extrair os nomes das colunas no banco de dados\n",
    "sql_query = \"\"\"SELECT name FROM sqlite_master WHERE type = 'table';\"\"\""
   ]
  },
  {
   "cell_type": "code",
   "execution_count": null,
   "metadata": {},
   "outputs": [],
   "source": [
    "# Executa a query\n",
    "cursor.execute(sql_query)"
   ]
  },
  {
   "cell_type": "code",
   "execution_count": null,
   "metadata": {},
   "outputs": [],
   "source": [
    "# Visualiza o resultado\n",
    "print(cursor.fetchall())"
   ]
  },
  {
   "cell_type": "markdown",
   "metadata": {},
   "source": [
    "> A query abaixo retorna todas as linhas e todas as colunas da tabela."
   ]
  },
  {
   "cell_type": "code",
   "execution_count": null,
   "metadata": {},
   "outputs": [],
   "source": [
    "# Cria uma instrução SQL\n",
    "query1 = 'SELECT * FROM tb_vendas_dsa'"
   ]
  },
  {
   "cell_type": "code",
   "execution_count": null,
   "metadata": {},
   "outputs": [],
   "source": [
    "# Executa a query no banco de dados\n",
    "cursor.execute(query1)"
   ]
  },
  {
   "cell_type": "code",
   "execution_count": null,
   "metadata": {},
   "outputs": [],
   "source": [
    "# List comprehension para visualizar os nomes das colunas\n",
    "nomes_colunas = [description[0] for description in cursor.description]"
   ]
  },
  {
   "cell_type": "code",
   "execution_count": null,
   "metadata": {},
   "outputs": [],
   "source": [
    "# Visualiza o resultado\n",
    "print(nomes_colunas)"
   ]
  },
  {
   "cell_type": "code",
   "execution_count": null,
   "metadata": {},
   "outputs": [],
   "source": [
    "# Retorna os dados da execução da query\n",
    "dados = cursor.fetchall()"
   ]
  },
  {
   "cell_type": "code",
   "execution_count": null,
   "metadata": {},
   "outputs": [],
   "source": [
    "# Visualiza os dados\n",
    "dados"
   ]
  },
  {
   "cell_type": "markdown",
   "metadata": {},
   "source": [
    "## Aplicando Linguagem SQL Direto no Banco de Dados com Linguagem Python"
   ]
  },
  {
   "cell_type": "markdown",
   "metadata": {},
   "source": [
    "> A query abaixo retorna a média de unidades vendidas."
   ]
  },
  {
   "cell_type": "code",
   "execution_count": null,
   "metadata": {},
   "outputs": [],
   "source": [
    "# Cria uma instrução SQL para calcular a média de unidades vendidas\n",
    "query2 = 'SELECT AVG(Unidades_Vendidas) FROM tb_vendas_dsa'"
   ]
  },
  {
   "cell_type": "code",
   "execution_count": null,
   "metadata": {},
   "outputs": [],
   "source": [
    "# Executa a query no banco de dados\n",
    "cursor.execute(query2)"
   ]
  },
  {
   "cell_type": "code",
   "execution_count": null,
   "metadata": {},
   "outputs": [],
   "source": [
    "# Visualiza o resultado\n",
    "print(cursor.fetchall())"
   ]
  },
  {
   "cell_type": "markdown",
   "metadata": {},
   "source": [
    "> A query abaixo retorna a média de unidades vendidas por produto."
   ]
  },
  {
   "cell_type": "code",
   "execution_count": null,
   "metadata": {},
   "outputs": [],
   "source": [
    "# Cria uma instrução SQL para calcular a média de unidades vendidas por produto\n",
    "query3 = 'SELECT Nome_Produto, AVG(Unidades_Vendidas) FROM tb_vendas_dsa GROUP BY Nome_Produto'"
   ]
  },
  {
   "cell_type": "code",
   "execution_count": null,
   "metadata": {},
   "outputs": [],
   "source": [
    "# Executa a query no banco de dados\n",
    "cursor.execute(query3)"
   ]
  },
  {
   "cell_type": "code",
   "execution_count": null,
   "metadata": {},
   "outputs": [],
   "source": [
    "# Visualiza o resultado\n",
    "cursor.fetchall()"
   ]
  },
  {
   "cell_type": "markdown",
   "metadata": {},
   "source": [
    "> A query abaixo retorna a média de unidades vendidas por produto se o valor unitario for maior do que 199."
   ]
  },
  {
   "cell_type": "code",
   "execution_count": null,
   "metadata": {},
   "outputs": [],
   "source": [
    "# Cria uma instrução SQL para calcular a média de unidades vendidas por produto,\n",
    "# quando o valor unitário for maior que 199\n",
    "query4 = \"\"\"SELECT Nome_Produto, AVG(Unidades_Vendidas) \n",
    "            FROM tb_vendas_dsa \n",
    "            WHERE Valor_Unitario > 199 \n",
    "            GROUP BY Nome_Produto\"\"\""
   ]
  },
  {
   "cell_type": "code",
   "execution_count": null,
   "metadata": {},
   "outputs": [],
   "source": [
    "# Executa a query no banco de dados\n",
    "cursor.execute(query4)"
   ]
  },
  {
   "cell_type": "code",
   "execution_count": null,
   "metadata": {},
   "outputs": [],
   "source": [
    "# Visualiza o resultado\n",
    "cursor.fetchall()"
   ]
  },
  {
   "cell_type": "markdown",
   "metadata": {},
   "source": [
    "> A query abaixo retorna a média de unidades vendidas por produto se o valor unitario for maior do que 199 e somente se a média de unidades vendidas for maior do que 10."
   ]
  },
  {
   "cell_type": "code",
   "execution_count": null,
   "metadata": {},
   "outputs": [],
   "source": [
    "# Esta query está ERRADA!\n",
    "query5 = \"\"\"SELECT Nome_Produto, AVG(Unidades_Vendidas) \n",
    "            FROM tb_vendas_dsa \n",
    "            WHERE Valor_Unitario > 199 and AVG(Unidades_Vendidas) > 10\n",
    "            GROUP BY Nome_Produto \"\"\""
   ]
  },
  {
   "cell_type": "code",
   "execution_count": null,
   "metadata": {},
   "outputs": [],
   "source": [
    "# Executa a query no banco de dados\n",
    "# cursor.execute(query5)"
   ]
  },
  {
   "cell_type": "code",
   "execution_count": null,
   "metadata": {},
   "outputs": [],
   "source": [
    "# Cria uma instrução SQL para calcular a média de unidades vendidas por produto,\n",
    "# quando o valor unitário for maior que 199, mas somente se a média de unidades vendidas for maior que 10\n",
    "query5 = \"\"\"SELECT Nome_Produto, AVG(Unidades_Vendidas) \n",
    "            FROM tb_vendas_dsa \n",
    "            WHERE Valor_Unitario > 199 \n",
    "            GROUP BY Nome_Produto \n",
    "            HAVING AVG(Unidades_Vendidas) > 10\"\"\""
   ]
  },
  {
   "cell_type": "code",
   "execution_count": null,
   "metadata": {},
   "outputs": [],
   "source": [
    "# Executa a query no banco de dados\n",
    "cursor.execute(query5)"
   ]
  },
  {
   "cell_type": "code",
   "execution_count": null,
   "metadata": {},
   "outputs": [],
   "source": [
    "# Visualiza o resultado\n",
    "cursor.fetchall()"
   ]
  },
  {
   "cell_type": "code",
   "execution_count": null,
   "metadata": {},
   "outputs": [],
   "source": [
    "# Fecha o cursor e encerra a conexão\n",
    "cursor.close()\n",
    "con.close()"
   ]
  },
  {
   "cell_type": "markdown",
   "metadata": {},
   "source": [
    "## Aplicando Linguagem SQL na Sintaxe do Pandas com Linguagem Python"
   ]
  },
  {
   "cell_type": "code",
   "execution_count": null,
   "metadata": {},
   "outputs": [],
   "source": [
    "# Conecta no banco de dados\n",
    "con = sqlite3.connect('arquivos\\\\Danco de dados de teste - SQLite.db')"
   ]
  },
  {
   "cell_type": "code",
   "execution_count": null,
   "metadata": {},
   "outputs": [],
   "source": [
    "# Abre um cursor para percorrer os dados no banco de dados\n",
    "cursor = con.cursor()"
   ]
  },
  {
   "cell_type": "markdown",
   "metadata": {},
   "source": [
    "> A query abaixo retorna todas as linhas e todas as colunas da tabela."
   ]
  },
  {
   "cell_type": "code",
   "execution_count": null,
   "metadata": {},
   "outputs": [],
   "source": [
    "# Cria uma instrução SQL\n",
    "query = 'SELECT * FROM tb_vendas_dsa'"
   ]
  },
  {
   "cell_type": "code",
   "execution_count": null,
   "metadata": {},
   "outputs": [],
   "source": [
    "# Executa a query no banco de dados\n",
    "cursor.execute(query)"
   ]
  },
  {
   "cell_type": "code",
   "execution_count": null,
   "metadata": {},
   "outputs": [],
   "source": [
    "# Retorna os dados da execução da query\n",
    "dados = cursor.fetchall()"
   ]
  },
  {
   "cell_type": "code",
   "execution_count": null,
   "metadata": {},
   "outputs": [],
   "source": [
    "dados"
   ]
  },
  {
   "cell_type": "code",
   "execution_count": null,
   "metadata": {},
   "outputs": [],
   "source": [
    "type(dados)"
   ]
  },
  {
   "cell_type": "code",
   "execution_count": null,
   "metadata": {},
   "outputs": [],
   "source": [
    "# Carrega os dados como dataframe do Pandas\n",
    "df = pd.DataFrame(dados, columns = ['ID_Pedido', \n",
    "                                    'ID_Cliente', \n",
    "                                    'Nome_Produto',\n",
    "                                    'Valor_Unitario',\n",
    "                                    'Unidades_Vendidas',\n",
    "                                    'Custo'])"
   ]
  },
  {
   "cell_type": "code",
   "execution_count": null,
   "metadata": {},
   "outputs": [],
   "source": [
    "df.head()"
   ]
  },
  {
   "cell_type": "code",
   "execution_count": null,
   "metadata": {},
   "outputs": [],
   "source": [
    "# Fecha o cursor e encerra a conexão\n",
    "cursor.close()\n",
    "con.close()"
   ]
  },
  {
   "cell_type": "markdown",
   "metadata": {},
   "source": [
    "> A query abaixo retorna a média de unidades vendidas."
   ]
  },
  {
   "cell_type": "code",
   "execution_count": null,
   "metadata": {},
   "outputs": [],
   "source": [
    "# Calcula a média de unidades vendidas\n",
    "media_unidades_vendidas = df['Unidades_Vendidas'].mean()"
   ]
  },
  {
   "cell_type": "code",
   "execution_count": null,
   "metadata": {},
   "outputs": [],
   "source": [
    "type(media_unidades_vendidas)"
   ]
  },
  {
   "cell_type": "code",
   "execution_count": null,
   "metadata": {},
   "outputs": [],
   "source": [
    "print(media_unidades_vendidas)"
   ]
  },
  {
   "cell_type": "markdown",
   "metadata": {},
   "source": [
    "> A query abaixo retorna a média de unidades vendidas por produto."
   ]
  },
  {
   "cell_type": "code",
   "execution_count": null,
   "metadata": {},
   "outputs": [],
   "source": [
    "# Calcula a média de unidades vendidas por produto\n",
    "media_unidades_vendidas_por_produto = df.groupby('Nome_Produto')['Unidades_Vendidas'].mean()"
   ]
  },
  {
   "cell_type": "code",
   "execution_count": null,
   "metadata": {},
   "outputs": [],
   "source": [
    "# Visualiza os 10 primeiros resultados\n",
    "print(media_unidades_vendidas_por_produto.head(10))"
   ]
  },
  {
   "cell_type": "markdown",
   "metadata": {},
   "source": [
    "> A query abaixo retorna a média de unidades vendidas por produto se o valor unitario for maior do que 199."
   ]
  },
  {
   "cell_type": "code",
   "execution_count": null,
   "metadata": {},
   "outputs": [],
   "source": [
    "# Retorna a média de unidades vendidas por produto se o valor unitario for maior do que 199.\n",
    "df[df['Valor_Unitario'] > 199].groupby('Nome_Produto')['Unidades_Vendidas'].mean()"
   ]
  },
  {
   "cell_type": "markdown",
   "metadata": {},
   "source": [
    "> A query abaixo retorna a média de unidades vendidas por produto se o valor unitario for maior do que 199 e somente se a média de unidades vendidas for maior do que 10."
   ]
  },
  {
   "cell_type": "code",
   "execution_count": null,
   "metadata": {},
   "outputs": [],
   "source": [
    "# Alternativa A\n",
    "df[df['Valor_Unitario'] > 199].groupby('Nome_Produto').filter(lambda x: x['Unidades_Vendidas'].mean() > 10)"
   ]
  },
  {
   "cell_type": "code",
   "execution_count": null,
   "metadata": {},
   "outputs": [],
   "source": [
    "# Alternativa B\n",
    "df[df['Valor_Unitario'] > 199].groupby('Nome_Produto') \\\n",
    "                              .filter(lambda x: x['Unidades_Vendidas'].mean() > 10) \\\n",
    "                              .groupby('Nome_Produto')['Unidades_Vendidas'].mean()"
   ]
  },
  {
   "cell_type": "markdown",
   "metadata": {},
   "source": [
    "## Sintaxe SQL x Sintaxe Pandas\n",
    "\n",
    "As duas instruções abaixo retornam o mesmo resultado!"
   ]
  },
  {
   "cell_type": "code",
   "execution_count": null,
   "metadata": {},
   "outputs": [],
   "source": [
    "# Sintaxe SQL\n",
    "query5 = \"\"\"SELECT Nome_Produto, AVG(Unidades_Vendidas) \n",
    "            FROM tb_vendas_dsa \n",
    "            WHERE Valor_Unitario > 199 \n",
    "            GROUP BY Nome_Produto \n",
    "            HAVING AVG(Unidades_Vendidas) > 10\"\"\""
   ]
  },
  {
   "cell_type": "code",
   "execution_count": null,
   "metadata": {},
   "outputs": [],
   "source": [
    "# Sintaxe Pandas\n",
    "df[df['Valor_Unitario'] > 199].groupby('Nome_Produto') \\\n",
    "                              .filter(lambda x: x['Unidades_Vendidas'].mean() > 10) \\\n",
    "                              .groupby('Nome_Produto')['Unidades_Vendidas'].mean()"
   ]
  },
  {
   "cell_type": "markdown",
   "metadata": {},
   "source": [
    "# Fim"
   ]
  },
  {
   "cell_type": "markdown",
   "metadata": {},
   "source": [
    "\n",
    "### Obrigado\n",
    "\n",
    "### Visite o Blog da Data Science Academy - <a href=\"http://blog.dsacademy.com.br\">Blog DSA</a>\n"
   ]
  }
 ],
 "metadata": {
  "kernelspec": {
   "display_name": "Python 3 (ipykernel)",
   "language": "python",
   "name": "python3"
  },
  "language_info": {
   "codemirror_mode": {
    "name": "ipython",
    "version": 3
   },
   "file_extension": ".py",
   "mimetype": "text/x-python",
   "name": "python",
   "nbconvert_exporter": "python",
   "pygments_lexer": "ipython3",
   "version": "3.10.9"
  }
 },
 "nbformat": 4,
 "nbformat_minor": 1
}
