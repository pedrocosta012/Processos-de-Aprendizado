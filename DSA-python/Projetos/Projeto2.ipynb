{
 "cells": [
  {
   "attachments": {},
   "cell_type": "markdown",
   "metadata": {},
   "source": [
    "## Projeto 2"
   ]
  },
  {
   "attachments": {},
   "cell_type": "markdown",
   "metadata": {},
   "source": [
    "### Preparação dos dados"
   ]
  },
  {
   "cell_type": "code",
   "execution_count": null,
   "metadata": {},
   "outputs": [],
   "source": [
    "import matplotlib.pyplot as plt\n",
    "import pandas as pd\n",
    "import warnings\n",
    "warnings.filterwarnings('ignore')\n",
    "\n",
    "df = pd.read_csv('arquivos/dataset_projeto2.csv')\n",
    "df.head()"
   ]
  },
  {
   "attachments": {},
   "cell_type": "markdown",
   "metadata": {},
   "source": [
    "### Qual Cidade com Maior Valor de Venda de Produtos da Categoria 'Office Supplies'?"
   ]
  },
  {
   "cell_type": "code",
   "execution_count": null,
   "metadata": {},
   "outputs": [],
   "source": [
    "df1 = df[df['Categoria'] == 'Office Supplies'][['Cidade', 'Valor_Venda']]\\\n",
    "    .groupby('Cidade').sum()['Valor_Venda'].idxmax()\n",
    "df1"
   ]
  },
  {
   "attachments": {},
   "cell_type": "markdown",
   "metadata": {},
   "source": [
    "### Qual o Total de Vendas Por Data do Pedido? "
   ]
  },
  {
   "attachments": {},
   "cell_type": "markdown",
   "metadata": {},
   "source": [
    "Demonstre o resultado através de um gráfico de barras."
   ]
  },
  {
   "cell_type": "code",
   "execution_count": null,
   "metadata": {},
   "outputs": [],
   "source": [
    "df2 = df[['Data_Pedido']].groupby('Data_Pedido').size().reset_index(name='Total_Vendas')\n",
    "df2.plot(x='Data_Pedido', y='Total_Vendas', xlabel='Data', ylabel='Total Vendas', figsize=[20, 6])"
   ]
  },
  {
   "attachments": {},
   "cell_type": "markdown",
   "metadata": {},
   "source": [
    "### Qual o Total de Vendas por Estado?"
   ]
  },
  {
   "attachments": {},
   "cell_type": "markdown",
   "metadata": {},
   "source": [
    "Demonstre o resultado através de um gráfico de barras."
   ]
  },
  {
   "cell_type": "code",
   "execution_count": null,
   "metadata": {},
   "outputs": [],
   "source": [
    "df3 = df[['Estado', 'Valor_Venda']].groupby('Estado').sum()['Valor_Venda']\\\n",
    "    .reset_index(name='Total Vendas')\n",
    "plt.figure(figsize=[15, 6])\n",
    "plt.bar(df3['Estado'], df3['Total Vendas'])\n",
    "plt.xlabel('Estado')\n",
    "plt.ylabel('Total Vendas')\n",
    "plt.xticks(rotation=75)\n",
    "plt.show()"
   ]
  },
  {
   "attachments": {},
   "cell_type": "markdown",
   "metadata": {},
   "source": [
    "### Quais São as 10 Cidades com Maior Total de Vendas? "
   ]
  },
  {
   "attachments": {},
   "cell_type": "markdown",
   "metadata": {},
   "source": [
    "Demonstre o resultado através de um gráfico de barras.\n"
   ]
  },
  {
   "cell_type": "code",
   "execution_count": null,
   "metadata": {},
   "outputs": [],
   "source": [
    "df4 = df[['Cidade', 'Valor_Venda']].groupby('Cidade').sum()['Valor_Venda'].reset_index(name='Soma_Vendas')\\\n",
    "    .sort_values('Soma_Vendas', ascending=False).head(10)\n",
    "plt.bar(df4['Cidade'], df4['Soma_Vendas'])\n",
    "plt.xticks(rotation=50)\n",
    "plt.show()"
   ]
  },
  {
   "attachments": {},
   "cell_type": "markdown",
   "metadata": {},
   "source": [
    "### Qual Segmento Teve o Maior Total de Vendas?"
   ]
  },
  {
   "attachments": {},
   "cell_type": "markdown",
   "metadata": {},
   "source": [
    "Demonstre o resultado através de um gráfico de pizza.\n"
   ]
  },
  {
   "cell_type": "code",
   "execution_count": null,
   "metadata": {},
   "outputs": [],
   "source": [
    "df5 = df[['Segmento']].groupby('Segmento').size().reset_index(name='Representatividade')\n",
    "plt.pie(df5['Representatividade'], labels=df5['Segmento'])\n",
    "plt.show()"
   ]
  },
  {
   "attachments": {},
   "cell_type": "markdown",
   "metadata": {},
   "source": [
    "### Qual o Total de Vendas Por Segmento e Por Ano?"
   ]
  },
  {
   "cell_type": "code",
   "execution_count": null,
   "metadata": {},
   "outputs": [],
   "source": [
    "df6 = df[['Data_Pedido', 'Segmento']]\n",
    "df6['Ano'] = df6['Data_Pedido'].str.split('/').str[2]\n",
    "df6[['Ano', 'Segmento']].groupby(['Ano', 'Segmento']).size().reset_index(name='Vendas')"
   ]
  },
  {
   "attachments": {},
   "cell_type": "markdown",
   "metadata": {},
   "source": [
    "### Os  gestores  da  empresa  estão  considerando conceder  diferentes  faixas  de  descontos  e gostariam de fazer uma simulação com base na regra abaixo:\n",
    "### Se o Valor_Venda for maior que 1000 recebe 15% de desconto.\n",
    "### Se o Valor_Venda for menor que 1000 recebe 10% de desconto.\n",
    "### Quantas Vendas Receberiam 15% de Desconto?"
   ]
  },
  {
   "cell_type": "code",
   "execution_count": null,
   "metadata": {},
   "outputs": [],
   "source": [
    "df7 = df[df['Valor_Venda'] >= 1000].shape[0]\n",
    "df7"
   ]
  },
  {
   "attachments": {},
   "cell_type": "markdown",
   "metadata": {},
   "source": [
    "### Considere  Que  a  Empresa  Decida  Conceder  o  Desconto  de  15%  do  Item  Anterior.  Qual Seria a Média do Valor de Venda Antes e Depois do Desconto?"
   ]
  },
  {
   "cell_type": "code",
   "execution_count": null,
   "metadata": {},
   "outputs": [],
   "source": [
    "df8 = df[['Valor_Venda']]\n",
    "df8['Desconto'] = df8['Valor_Venda'].apply(lambda x: 0.15 if x >= 1000 else 0)\n",
    "df8['Valor_Pos_Desconto'] = df8['Valor_Venda'] * (1 - df8['Desconto'])\n",
    "Valor_Venda, Valor_Pos_Desconto = df8[['Valor_Venda', 'Valor_Pos_Desconto']].mean()\n",
    "print(\n",
    "    f'A média do valor antes do desconto era R${Valor_Venda:.2f}, '\n",
    "    f'depois do desconto o valor foi de R${Valor_Pos_Desconto:.2f}'\n",
    ")"
   ]
  },
  {
   "attachments": {},
   "cell_type": "markdown",
   "metadata": {},
   "source": [
    "### Qual o Média de Vendas Por Segmento, Por Ano e Por Mês?\n"
   ]
  },
  {
   "attachments": {},
   "cell_type": "markdown",
   "metadata": {},
   "source": [
    "Demonstre o resultado através de gráfico de linha."
   ]
  },
  {
   "cell_type": "code",
   "execution_count": null,
   "metadata": {},
   "outputs": [],
   "source": [
    "df9 = df"
   ]
  },
  {
   "attachments": {},
   "cell_type": "markdown",
   "metadata": {},
   "source": [
    "### Qual o Total de Vendas Por Categoria e SubCategoria, Considerando Somente as Top 12 SubCategorias?\n"
   ]
  },
  {
   "attachments": {},
   "cell_type": "markdown",
   "metadata": {},
   "source": [
    "Demonstre tudo através de um único gráfico.\n"
   ]
  },
  {
   "cell_type": "code",
   "execution_count": null,
   "metadata": {},
   "outputs": [],
   "source": [
    "df10 = df"
   ]
  }
 ],
 "metadata": {
  "kernelspec": {
   "display_name": "base",
   "language": "python",
   "name": "python3"
  },
  "language_info": {
   "codemirror_mode": {
    "name": "ipython",
    "version": 3
   },
   "file_extension": ".py",
   "mimetype": "text/x-python",
   "name": "python",
   "nbconvert_exporter": "python",
   "pygments_lexer": "ipython3",
   "version": "3.10.9"
  },
  "orig_nbformat": 4
 },
 "nbformat": 4,
 "nbformat_minor": 2
}
