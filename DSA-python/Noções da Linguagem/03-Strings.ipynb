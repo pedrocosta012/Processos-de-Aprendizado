{
  "cells": [
    {
      "cell_type": "markdown",
      "metadata": {},
      "source": [
        "# <font color='blue'>Data Science Academy</font>\n",
        "\n",
        "## <font color='blue'>Fundamentos de Linguagem Python Para Análise de Dados e Data Science</font>\n",
        "\n",
        "## <font color='blue'>Capítulo 4 - Strings e Indexação</font>"
      ]
    },
    {
      "cell_type": "code",
      "metadata": {},
      "outputs": [],
    "source": [
      "# Versão da Linguagem Python\n",
      "from platform import python_version\n",
      "print('Versão da Linguagem Python Usada Neste Jupyter Notebook:', python_version())"
    ]
  },
  {
    "cell_type": "markdown",
    "metadata": {},
    "source": [
      "### Criando uma String\n",
      "\n",
      "Para criar uma string em Python você pode usar aspas simples ou duplas. Por exemplo:"
    ]
  },
  {
    "cell_type": "code",
    "metadata": {},
    "outputs": [],
  "source": [
    "# Uma única palavra\n",
    "'Oi'"
  ]
},
{
  "cell_type": "code",
  "metadata": {},
  "outputs": [],
"source": [
  "# Uma frase\n",
  "'Criando uma string em Python'"
]
},
{
"cell_type": "code",
"metadata": {},
"outputs": [],
"source": [
"# Podemos usar aspas duplas\n",
"\"Podemos usar aspas duplas ou simples para strings em Python\""
]
},
{
"cell_type": "code",
"metadata": {},
"outputs": [],
"source": [
"# Você pode combinar aspas duplas e simples\n",
"\"Testando strings em 'Python'\""
]
},
{
"cell_type": "markdown",
"metadata": {},
"source": [
"### Imprimindo uma String"
]
},
{
"cell_type": "code",
"metadata": {},
"outputs": [],
"source": [
"print ('Testando Strings em Python')"
]
},
{
"cell_type": "code",
"metadata": {},
"outputs": [],
"source": [
"print ('Testando \\n Strings \\n em \\n Python')"
]
},
{
"cell_type": "code",
"metadata": {},
"outputs": [],
"source": [
"print ('\\n')"
]
},
{
"cell_type": "markdown",
"metadata": {},
"source": [
"### Indexando Strings"
]
},
{
"cell_type": "code",
"metadata": {},
"outputs": [],
"source": [
"# Atribuindo uma string\n",
"s = 'Data Science Academy'"
]
},
{
"cell_type": "code",
"metadata": {},
"outputs": [],
"source": [
"print(s)"
]
},
{
"cell_type": "markdown",
"metadata": {},
"source": [
"> Indexação em Python começar por zero."
]
},
{
"cell_type": "code",
"metadata": {},
"outputs": [],
"source": [
"# Primeiro elemento da string\n",
"s[0]"
]
},
{
"cell_type": "code",
"metadata": {},
"outputs": [],
"source": [
"s[1]"
]
},
{
"cell_type": "code",
"metadata": {},
"outputs": [],
"source": [
"s[2]"
]
},
{
"cell_type": "code",
"metadata": {},
"outputs": [],
"source": [
"s[3]"
]
},
{
"cell_type": "code",
"metadata": {},
"outputs": [],
"source": [
"s[4]"
]
},
{
"cell_type": "markdown",
"metadata": {},
"source": [
"Podemos usar um : para executar um slicing que faz a leitura de tudo até um ponto designado. Por exemplo:"
]
},
{
"cell_type": "code",
"metadata": {},
"outputs": [],
"source": [
"# Retorna todos os elementos da string, começando pela posição \n",
"# (lembre-se que Python começa a indexação pela posição 0),\n",
"# até o fim da string.\n",
"s[1:]"
]
},
{
"cell_type": "code",
"metadata": {},
"outputs": [],
"source": [
"# A string original permanece inalterada\n",
"s"
]
},
{
"cell_type": "code",
"metadata": {},
"outputs": [],
"source": [
"# Retorna tudo até a posição de índice 3\n",
"s[:3]"
]
},
{
"cell_type": "code",
"metadata": {},
"outputs": [],
"source": [
"# Retorna tudo até a posição de índice 4\n",
"s[:4]"
]
},
{
"cell_type": "code",
"metadata": {},
"outputs": [],
"source": [
"# Nós também podemos usar a indexação negativa e ler de trás para frente\n",
"s[-1]"
]
},
{
"cell_type": "code",
"metadata": {},
"outputs": [],
"source": [
"# Retornar tudo, exceto a última letra\n",
"s[:-1]"
]
},
{
"cell_type": "markdown",
"metadata": {},
"source": [
"Nós também podemos usar a notação de índice e fatiar a string em pedaços específicos (o padrão é 1). \n",
"\n",
"Por exemplo, podemos usar dois pontos duas vezes em uma linha e, em seguida, um número que especifica a frequência para retornar elementos. "
]
},
{
"cell_type": "code",
"metadata": {},
"outputs": [],
"source": [
"s[::1]"
]
},
{
"cell_type": "code",
"metadata": {},
"outputs": [],
"source": [
"s[::2]"
]
},
{
"cell_type": "code",
"metadata": {},
"outputs": [],
"source": [
"s[::-1]"
]
},
{
"cell_type": "markdown",
"metadata": {},
"source": [
"### Propriedades de Strings"
]
},
{
"cell_type": "code",
"metadata": {},
"outputs": [],
"source": [
"s"
]
},
{
"cell_type": "code",
"metadata": {},
"outputs": [],
"source": [
"# Alterando um caracter (não é possível alterar um elemento da string)\n",
"s[0] = 'x'"
]
},
{
"cell_type": "code",
"metadata": {},
"outputs": [],
"source": [
"# Concatenando strings\n",
"s + ' é a melhor maneira de estar preparado para o mercado de trabalho em Ciência de Dados!'"
]
},
{
"cell_type": "code",
"metadata": {},
"outputs": [],
"source": [
"s = s + ' é a melhor maneira de estar preparado para o mercado de trabalho em Ciência de Dados!'"
]
},
{
"cell_type": "code",
"metadata": {},
"outputs": [],
"source": [
"print(s)"
]
},
{
"cell_type": "code",
"metadata": {},
"outputs": [],
"source": [
"# Podemos usar o símbolo de multiplicação para criar repetição!\n",
"letra = 'w'"
]
},
{
"cell_type": "code",
"metadata": {},
"outputs": [],
"source": [
"letra * 3"
]
},
{
"cell_type": "markdown",
"metadata": {},
"source": [
"### Funções Built-in de Strings"
]
},
{
"cell_type": "code",
"metadata": {},
"outputs": [],
"source": [
"s"
]
},
{
"cell_type": "code",
"metadata": {},
"outputs": [],
"source": [
"# Upper Case \n",
"s.upper()"
]
},
{
"cell_type": "code",
"metadata": {},
"outputs": [],
"source": [
"# Lower case\n",
"s.lower()"
]
},
{
"cell_type": "code",
"metadata": {},
"outputs": [],
"source": [
"# Dividir uma string por espaços em branco (padrão)\n",
"s.split()"
]
},
{
"cell_type": "code",
"metadata": {},
"outputs": [],
"source": [
"# Dividir uma string por um elemento específico\n",
"s.split('y')"
]
},
{
"cell_type": "markdown",
"metadata": {},
"source": [
"### Funções String"
]
},
{
"cell_type": "code",
"metadata": {},
"outputs": [],
"source": [
"s = 'seja bem vindo ao universo da Linguagem Python!'"
]
},
{
"cell_type": "code",
"metadata": {},
"outputs": [],
"source": [
"s"
]
},
{
"cell_type": "code",
"metadata": {},
"outputs": [],
"source": [
"s.capitalize()"
]
},
{
"cell_type": "code",
"metadata": {},
"outputs": [],
"source": [
"s.count('a')"
]
},
{
"cell_type": "code",
"metadata": {},
"outputs": [],
"source": [
"s.isalnum()"
]
},
{
"cell_type": "code",
"metadata": {},
"outputs": [],
"source": [
"s.islower()"
]
},
{
"cell_type": "code",
"metadata": {},
"outputs": [],
"source": [
"s.isspace()"
]
},
{
"cell_type": "code",
"metadata": {},
"outputs": [],
"source": [
"s.endswith('o')"
]
},
{
"cell_type": "code",
"metadata": {},
"outputs": [],
"source": [
"s = '1000'"
]
},
{
"cell_type": "code",
"metadata": {},
"outputs": [],
"source": [
"s"
]
},
{
"cell_type": "code",
"metadata": {},
"outputs": [],
"source": [
"type(s)"
]
},
{
"cell_type": "markdown",
"metadata": {},
"source": [
"### Comparando Strings"
]
},
{
"cell_type": "code",
"metadata": {},
"outputs": [],
"source": [
"print(\"Python\" == \"R\")"
]
},
{
"cell_type": "code",
"metadata": {},
"outputs": [],
"source": [
"print(\"Python\" == \"Python\")"
]
},
{
"cell_type": "markdown",
"metadata": {},
"source": [
"# Fim"
]
},
{
"cell_type": "markdown",
"metadata": {},
"source": [
"### Obrigado\n",
"\n",
"### Visite o Blog da Data Science Academy - <a href=\"http://blog.dsacademy.com.br\">Blog DSA</a>"
]
}
],
"metadata": {
"anaconda-cloud": {},
"kernelspec": {
"display_name": "Python 3 (ipykernel)",
"language": "python",
"name": "python3"
},
"language_info": {
"codemirror_mode": {
"name": "ipython",
"version": 3
},
"file_extension": ".py",
"mimetype": "text/x-python",
"name": "python",
"nbconvert_exporter": "python",
"pygments_lexer": "ipython3",
"version": "3.9.13"
}
},
"nbformat": 4,
"nbformat_minor": 1
}
