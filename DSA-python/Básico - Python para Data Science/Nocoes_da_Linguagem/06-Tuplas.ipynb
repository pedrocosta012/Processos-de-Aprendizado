{
  "cells": [
    {
      "cell_type": "markdown",
      "metadata": {},
      "source": [
        "# <font color='blue'>Data Science Academy</font>\n",
        "\n",
        "## <font color='blue'>Fundamentos de Linguagem Python Para Análise de Dados e Data Science</font>\n",
        "\n",
        "## <font color='blue'>Capítulo 4 - Estruturas de Dados (Tuplas)</font>"
      ]
    },
    {
      "cell_type": "code",
      "metadata": {},
      "outputs": [],
    "source": [
      "# Versão da Linguagem Python\n",
      "from platform import python_version\n",
      "print('Versão da Linguagem Python Usada Neste Jupyter Notebook:', python_version())"
    ]
  },
  {
    "cell_type": "markdown",
    "metadata": {},
    "source": [
      "### Trabalhando com Tuplas"
    ]
  },
  {
    "cell_type": "code",
    "metadata": {},
    "outputs": [],
    "source": [
      "# Criando uma tupla\n",
      "tupla1 = (\"Geografia\", 23, \"Elefantes\", 9.8, 'Python')"
    ]
  },
  {
    "cell_type": "code",
    "metadata": {},
    "outputs": [],
  "source": [
    "# Imprimindo a tupla\n",
    "tupla1"
  ]
},
{
  "cell_type": "code",
  "metadata": {},
  "outputs": [],
"source": [
  "# Tuplas não suportam append()\n",
  "tupla1.append(\"Chocolate\")   "
]
},
{
"cell_type": "code",
"metadata": {},
"outputs": [],
"source": [
"# Tuplas não suportam delete de um item específico\n",
"del tupla1[\"Elefantes\"]  "
]
},
{
"cell_type": "code",
"metadata": {},
"outputs": [],
"source": [
"# Tuplas podem ter um único item\n",
"tupla1 = (\"Chocolate\")"
]
},
{
"cell_type": "code",
"metadata": {},
"outputs": [],
"source": [
"tupla1"
]
},
{
"cell_type": "code",
"metadata": {},
"outputs": [],
"source": [
"tupla1 = (\"Geografia\", 23, \"Elefantes\", 9.8, 'Python')"
]
},
{
"cell_type": "code",
"metadata": {},
"outputs": [],
"source": [
"tupla1[0]"
]
},
{
"cell_type": "code",
"metadata": {},
"outputs": [],
"source": [
"# Verificando o comprimento da tupla\n",
"len(tupla1)"
]
},
{
"cell_type": "code",
"metadata": {},
"outputs": [],
"source": [
"# Slicing, da mesma forma que se faz com listas\n",
"tupla1[1:]"
]
},
{
"cell_type": "code",
"metadata": {},
"outputs": [],
"source": [
"tupla1.index('Elefantes')"
]
},
{
"cell_type": "code",
"metadata": {},
"outputs": [],
"source": [
"# Tuplas não suportam atribuição de item\n",
"tupla1[1] = 21"
]
},
{
"cell_type": "code",
"metadata": {},
"outputs": [],
"source": [
"# Deletando a tupla\n",
"del tupla1"
]
},
{
"cell_type": "code",
"metadata": {},
"outputs": [],
"source": [
"tupla1"
]
},
{
"cell_type": "code",
"metadata": {},
"outputs": [],
"source": [
"# Criando uma tupla\n",
"t2 = ('A', 'B', 'C')"
]
},
{
"cell_type": "code",
"metadata": {},
"outputs": [],
"source": [
"t2"
]
},
{
"cell_type": "code",
"metadata": {},
"outputs": [],
"source": [
"# Tuplas não suportam atribuição de item\n",
"t2[0] = 'D'"
]
},
{
"cell_type": "code",
"metadata": {},
"outputs": [],
"source": [
"# Usando a função list() para converter uma tupla para lista\n",
"lista_t2 = list(t2)"
]
},
{
"cell_type": "code",
"metadata": {},
"outputs": [],
"source": [
"type(t2)"
]
},
{
"cell_type": "code",
"metadata": {},
"outputs": [],
"source": [
"type(lista_t2)"
]
},
{
"cell_type": "code",
"metadata": {},
"outputs": [],
"source": [
"lista_t2"
]
},
{
"cell_type": "code",
"metadata": {},
"outputs": [],
"source": [
"lista_t2.append('D')"
]
},
{
"cell_type": "code",
"metadata": {},
"outputs": [],
"source": [
"# Usando a função tuple() para converter uma lista para tupla\n",
"t2 = tuple(lista_t2)"
]
},
{
"cell_type": "code",
"metadata": {},
"outputs": [],
"source": [
"t2"
]
},
{
"cell_type": "markdown",
"metadata": {},
"source": [
"# Fim"
]
},
{
"cell_type": "markdown",
"metadata": {},
"source": [
"### Obrigado\n",
"\n",
"### Visite o Blog da Data Science Academy - <a href=\"http://blog.dsacademy.com.br\">Blog DSA</a>"
]
}
],
"metadata": {
"anaconda-cloud": {},
"kernelspec": {
"display_name": "Python 3 (ipykernel)",
"language": "python",
"name": "python3"
},
"language_info": {
"codemirror_mode": {
"name": "ipython",
"version": 3
},
"file_extension": ".py",
"mimetype": "text/x-python",
"name": "python",
"nbconvert_exporter": "python",
"pygments_lexer": "ipython3",
"version": "3.9.13"
}
},
"nbformat": 4,
"nbformat_minor": 1
}
